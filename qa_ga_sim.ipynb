{
 "cells": [
  {
   "cell_type": "markdown",
   "metadata": {
    "slideshow": {
     "slide_type": "fragment"
    }
   },
   "source": [
    "## qa_ga_sim"
   ]
  },
  {
   "cell_type": "markdown",
   "metadata": {},
   "source": [
    "This jn was written to present a Quality Assurement about the simulations, and comparing them to real objects.\n",
    "\n",
    "All the parameters are listed in a JSON file in the same folder as this jupyter notebook.\n",
    "\n",
    "Firstly, import packages and libraries."
   ]
  },
  {
   "cell_type": "code",
   "execution_count": null,
   "metadata": {},
   "outputs": [],
   "source": [
    "import numpy as np\n",
    "from pathlib import Path\n",
    "import healpy as hp\n",
    "import json, os, sys, glob\n",
    "from time import sleep\n",
    "import tabulate\n",
    "import astropy.coordinates as coord\n",
    "import astropy.io.fits as fits\n",
    "from astropy.table import Table\n",
    "from astropy import units as u\n",
    "from astropy.coordinates import SkyCoord, match_coordinates_sky\n",
    "from astropy.io.fits import getdata\n",
    "\n",
    "from qa_ga_sim.qa_ga_sim import (\n",
    "    general_plots,\n",
    "    plot_ftp,\n",
    "    plots_ang_size,\n",
    "    plot_err,\n",
    "    plot_clusters_clean,\n",
    "    plot_cmd_clean,\n",
    "    plot_stellar_dens,\n",
    "    export_results,\n",
    "    read_iso\n",
    ")"
   ]
  },
  {
   "cell_type": "markdown",
   "metadata": {},
   "source": [
    "Below, load the JSON config file (change any parameter in case you want) and create folders for results.\n",
    "\n",
    "See that there are two JSON files, one specifically for the qa_ga_sim and other from the code that builds the simulations."
   ]
  },
  {
   "cell_type": "code",
   "execution_count": null,
   "metadata": {},
   "outputs": [],
   "source": [
    "confg_qa = \"qa_ga_sim.json\"\n",
    "\n",
    "with open(confg_qa) as fstream:\n",
    "    param_qa = json.load(fstream)\n",
    "\n",
    "globals().update(param_qa)\n",
    "\n",
    "os.system('# cp ' + 'pars_simulations_file' + '.')\n",
    "\n",
    "with open(pars_simulations_file) as fstream:\n",
    "    param = json.load(fstream)"
   ]
  },
  {
   "cell_type": "markdown",
   "metadata": {},
   "source": [
    "## Initial parameters"
   ]
  },
  {
   "cell_type": "markdown",
   "metadata": {},
   "source": [
    "Now printing the parameters from simulations:"
   ]
  },
  {
   "cell_type": "code",
   "execution_count": null,
   "metadata": {},
   "outputs": [],
   "source": [
    "for key, value in param.items():\n",
    "    print('{:>30} | {:>10}'.format(key, value))"
   ]
  },
  {
   "cell_type": "markdown",
   "metadata": {},
   "source": [
    "## Table of Simulated Objects\n",
    "\n",
    "The cell below show the complete table of simulated clusters released in this simulation. An improved description of columns is provided:\n",
    "<br>\n",
    "<br>\n",
    "0-HPX64: Ipix where the cluster is centered (Nested=True, Nside=64);\n",
    "<br>\n",
    "1-N: Star counts in cluster (before filtering stars from crowding);\n",
    "<br>\n",
    "2-MV: Absolute magnitude in V band (before filtering stars from crowding);\n",
    "<br>\n",
    "3-SNR: Poissonian Signal to Noise Ratio of the cluster. This is estimated by star counts within 2 arcmin over\n",
    "<br>\n",
    "root square of star counts within an annulus of rin=10 arcmin and rout = 25 arcmin, normalized\n",
    "<br>\n",
    "by area. This is calculated before filtering stars from crowding;\n",
    "<br>\n",
    "4-N_f: Star counts of filtering in stars by crowding;\n",
    "<br>\n",
    "5-MV_f: Absolute magnitude in V band after removing stars by crowding;\n",
    "<br>\n",
    "6-SNR_f: Signal to Noise Ratio calculated as described in (3) but after removing stars from crowding;\n",
    "<br>\n",
    "7-L: Galactic longitude (l), in degrees;\n",
    "<br>\n",
    "8-B: Galactic latitude (b), in degrees;\n",
    "<br>\n",
    "9-ra: Right Ascension (Equatorial coordinate), in degrees;\n",
    "<br>\n",
    "10-dec: Declination (Equatorial coordinate), in degrees;\n",
    "<br>\n",
    "11-r_exp: Exponential radius of cluster, in parsecs;\n",
    "<br>\n",
    "12-ell: Ellipticity (a - b) / a;\n",
    "<br>\n",
    "13-pa: Angular position (from North to East), in degrees;\n",
    "<br>\n",
    "14-mass: Visible mass of cluster (star accounted for mass are stars brighter than the limiting magnitude\n",
    "<br>\n",
    "of the simulation), in Solar masses;\n",
    "<br>\n",
    "15-dist: distance of the simulated cluster from Sun, in parsecs;"
   ]
  },
  {
   "cell_type": "code",
   "execution_count": null,
   "metadata": {},
   "outputs": [],
   "source": [
    "with open(param['star_clusters_simulated']) as f:\n",
    "    first_line = f.readline()\n",
    "\n",
    "IPIX_with_clusters = np.loadtxt(param['star_clusters_simulated'], usecols=(0), dtype=int, unpack=True)\n",
    "table = tabulate.tabulate(np.loadtxt(param['star_clusters_simulated'])[:][0:20],\n",
    "                          tablefmt='html',\n",
    "                          headers=(first_line[1:].split()))\n",
    "\n",
    "print('Total of clusters simulated: {:d}\\n'.format(len(IPIX_with_clusters)))\n",
    "\n",
    "solid_angle = (np.sin(np.deg2rad(param['dec_max']))-np.sin(np.deg2rad(param['dec_min']))) * (np.deg2rad(param['ra_max']) -np.deg2rad(param['ra_min'])) * (180/np.pi) ** 2\n",
    "\n",
    "print('Solid angle simulated: {:.2f} square degrees.\\n'.format(solid_angle))\n",
    "\n",
    "table"
   ]
  },
  {
   "cell_type": "markdown",
   "metadata": {},
   "source": [
    "## Density of MW stars"
   ]
  },
  {
   "cell_type": "code",
   "execution_count": null,
   "metadata": {},
   "outputs": [],
   "source": [
    "plot_stellar_dens(param)"
   ]
  },
  {
   "cell_type": "markdown",
   "metadata": {},
   "source": [
    "## Isochrone"
   ]
  },
  {
   "cell_type": "markdown",
   "metadata": {},
   "source": [
    "Now, reading information about the isochrone that was used to make simulated clusters."
   ]
  },
  {
   "cell_type": "code",
   "execution_count": null,
   "metadata": {},
   "outputs": [],
   "source": [
    "FeH_iso, logAge_iso, m_ini_iso, g_iso = read_iso(param['file_iso'])\n",
    "\n",
    "print('[Fe/H]={:.2f}, Age={:.2f} Gyr'.format(FeH_iso, 10**(logAge_iso-9)))"
   ]
  },
  {
   "cell_type": "markdown",
   "metadata": {},
   "source": [
    "## Global plots"
   ]
  },
  {
   "cell_type": "markdown",
   "metadata": {},
   "source": [
    "### Absolute magnitude and size (half-light radius)"
   ]
  },
  {
   "cell_type": "markdown",
   "metadata": {},
   "source": [
    "Plot features of simulated clusters and comparing them to a set of real objects.\n",
    "\n",
    "Red circles (associated to 'Sim') are the features of objects taken into account initial set of stars.\n",
    "\n",
    "Maroon circles are the cluster's features after removing stars from crowded fields (observational bias).\n",
    "\n",
    "See that absolute magnitude increases (simulated objects are fainter) after filtering stars."
   ]
  },
  {
   "cell_type": "code",
   "execution_count": null,
   "metadata": {},
   "outputs": [],
   "source": [
    "general_plots(param['star_clusters_simulated'], param['output_plots'])"
   ]
  },
  {
   "cell_type": "code",
   "execution_count": null,
   "metadata": {},
   "outputs": [],
   "source": [
    "plots_ang_size(param, FeH_iso)"
   ]
  },
  {
   "cell_type": "code",
   "execution_count": null,
   "metadata": {},
   "outputs": [],
   "source": [
    "plot_ftp(param)"
   ]
  },
  {
   "cell_type": "markdown",
   "metadata": {},
   "source": [
    "### Photometric errors (sample)"
   ]
  },
  {
   "cell_type": "markdown",
   "metadata": {},
   "source": [
    "Plotting errors of stars in main magnitude band, comparing magnitudes from simulations and from catalog.\n"
   ]
  },
  {
   "cell_type": "code",
   "execution_count": null,
   "metadata": {},
   "outputs": [],
   "source": [
    "plot_err(param['hpx_cats_clean_path'], 6)"
   ]
  },
  {
   "cell_type": "markdown",
   "metadata": {},
   "source": [
    "### Individual clusters"
   ]
  },
  {
   "cell_type": "markdown",
   "metadata": {},
   "source": [
    "Plot position of stars in clusters comparing filtered in and not filtered stars.\n",
    "\n",
    "The region sampled is the center of the cluster where the crowding is more intense."
   ]
  },
  {
   "cell_type": "code",
   "execution_count": null,
   "metadata": {},
   "outputs": [],
   "source": [
    "if param['plot_individual']:\n",
    "    ipix_cats = [(param['hpx_cats_clus_field'] + '/' + '{:d}'.format(i) + '.fits') for i in IPIX_with_clusters]\n",
    "    ipix_clean_cats = [(param['hpx_cats_clean_path'] + '/' + '{:d}'.format(i) + '.fits') for i in IPIX_with_clusters]\n",
    "                   \n",
    "    plot_clusters_clean(param)"
   ]
  },
  {
   "cell_type": "markdown",
   "metadata": {},
   "source": [
    "Figures below are 2D histograms of Color-Magnitude Diagrams (CMDs) plots comparing simulations.\n",
    "\n",
    "On the left, all stars in a HealPixel (stars from simulated cluster and MW).\n",
    "On the center, only stars from MW.\n",
    "On the right, only stars from the simulated cluster."
   ]
  },
  {
   "cell_type": "code",
   "execution_count": null,
   "metadata": {},
   "outputs": [],
   "source": [
    "if param['plot_individual']:\n",
    "    plot_cmd_clean(ipix_clean_cats[0:20], param['mmin'], param['mmax'], param['cmin'], param['cmax'],\n",
    "                    'mag_g_with_err', 'mag_r_with_err', 'GC', param['output_plots'])"
   ]
  }
 ],
 "metadata": {
  "kernelspec": {
   "display_name": "ga_sim",
   "language": "python",
   "name": "ga_sim"
  },
  "language_info": {
   "codemirror_mode": {
    "name": "ipython",
    "version": 3
   },
   "file_extension": ".py",
   "mimetype": "text/x-python",
   "name": "python",
   "nbconvert_exporter": "python",
   "pygments_lexer": "ipython3",
   "version": "3.8.13"
  }
 },
 "nbformat": 4,
 "nbformat_minor": 4
}
